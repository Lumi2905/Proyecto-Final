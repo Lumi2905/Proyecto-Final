{
  "metadata": {
    "kernelspec": {
      "name": "python",
      "display_name": "Python (Pyodide)",
      "language": "python"
    },
    "language_info": {
      "codemirror_mode": {
        "name": "python",
        "version": 3
      },
      "file_extension": ".py",
      "mimetype": "text/x-python",
      "name": "python",
      "nbconvert_exporter": "python",
      "pygments_lexer": "ipython3",
      "version": "3.8"
    }
  },
  "nbformat_minor": 5,
  "nbformat": 4,
  "cells": [
    {
      "id": "844b8cf2-5dee-46cf-91d7-8a628a4d60bd",
      "cell_type": "markdown",
      "source": "# Proyecto Final - Ciencia de Datos\n",
      "metadata": {}
    },
    {
      "id": "db3da48e-640c-4c5c-912c-25791f89458b",
      "cell_type": "markdown",
      "source": "## Introducción\nEste cuaderno presenta una visión general de los lenguajes, bibliotecas y herramientas comunes utilizadas en Ciencia de Datos. También incluye ejemplos básicos de expresiones aritméticas y operaciones en Python.\n",
      "metadata": {}
    },
    {
      "id": "ceb1311f-1518-4b67-8218-5a76321c6cc5",
      "cell_type": "markdown",
      "source": "## Lenguajes de Ciencia de Datos\n- Python\n- R\n- SQL\n- Scala\n- Julia\n",
      "metadata": {}
    },
    {
      "id": "84cbea88-5005-4df3-9f25-418907590082",
      "cell_type": "markdown",
      "source": "## Bibliotecas de Ciencia de Datos\n- NumPy\n- Pandas\n- Matplotlib\n- Seaborn\n- Scikit-learn\n- TensorFlow\n",
      "metadata": {}
    },
    {
      "id": "7bf01f51-37da-4ae6-ac03-1085b12637be",
      "cell_type": "markdown",
      "source": "## Herramientas de Ciencia de Datos\n\n| Herramienta      | Descripción                         |\n|------------------|-------------------------------------|\n| Jupyter Notebook | Entorno interactivo para codificación y visualización |\n| RStudio          | Entorno para análisis estadístico con R |\n| GitHub           | Plataforma de control de versiones  |\n| Watson Studio    | Plataforma de ciencia de datos en la nube de IBM |\n",
      "metadata": {}
    },
    {
      "id": "82dc2c29-0861-4fa5-a790-0f28408f3863",
      "cell_type": "markdown",
      "source": "## Ejemplos de expresiones aritméticas\nEjemplos básicos:\n- Suma: `2 + 3`\n- Multiplicación: `4 * 5`\n- División: `10 / 2`\n- Exponente: `2 ** 3`\n",
      "metadata": {}
    },
    {
      "id": "8ad7f76b-62a3-479b-8927-36d3c9234303",
      "cell_type": "code",
      "source": "# Multiplicación y suma de números\nmultiplicacion = 5 * 3\nsuma = 10 + 7\nprint(\"Resultado de la multiplicación:\", multiplicacion)\nprint(\"Resultado de la suma:\", suma)\n",
      "metadata": {
        "trusted": true
      },
      "outputs": [
        {
          "name": "stdout",
          "output_type": "stream",
          "text": "Resultado de la multiplicación: 15\nResultado de la suma: 17\n"
        }
      ],
      "execution_count": 1
    },
    {
      "id": "ff68fb48-5f53-4e4b-97a5-0b0c304ef359",
      "cell_type": "code",
      "source": "# Convertir minutos en horas\nminutos = 150\nhoras = minutos / 60\nprint(minutos, \"minutos equivalen a\", horas, \"horas\")\n",
      "metadata": {
        "trusted": true
      },
      "outputs": [
        {
          "name": "stdout",
          "output_type": "stream",
          "text": "150 minutos equivalen a 2.5 horas\n"
        }
      ],
      "execution_count": 2
    },
    {
      "id": "6e3d9017-0f2a-4b47-bec0-74c051367cc8",
      "cell_type": "code",
      "source": "# Objetivos del proyecto\nobjetivos = [\n    \"Identificar herramientas de Ciencia de Datos\",\n    \"Practicar operaciones básicas en Python\",\n    \"Organizar información en un cuaderno Jupyter\"\n]\nfor objetivo in objetivos:\n    print(\"-\", objetivo)\n",
      "metadata": {
        "trusted": true
      },
      "outputs": [
        {
          "name": "stdout",
          "output_type": "stream",
          "text": "- Identificar herramientas de Ciencia de Datos\n- Practicar operaciones básicas en Python\n- Organizar información en un cuaderno Jupyter\n"
        }
      ],
      "execution_count": 3
    },
    {
      "id": "60c69769-e3b9-4638-b181-6916dd6bb862",
      "cell_type": "markdown",
      "source": "**Autor:** Lucia Ly Aslla\n",
      "metadata": {}
    },
    {
      "id": "094fe8e2-53d4-45a4-8e02-c923870688c0",
      "cell_type": "markdown",
      "source": "## Enlace al repositorio en GitHub\nhttps://github.com/Lumi2905/Proyecto-Final/blob/main/ProyectoFinal.ipynb",
      "metadata": {}
    },
    {
      "id": "7adf86e0-fc4b-43aa-8a0f-113d50070304",
      "cell_type": "code",
      "source": "",
      "metadata": {
        "trusted": true
      },
      "outputs": [],
      "execution_count": null
    }
  ]
}